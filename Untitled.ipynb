{
 "cells": [
  {
   "cell_type": "code",
   "execution_count": 23,
   "id": "23f4a25d",
   "metadata": {},
   "outputs": [
    {
     "name": "stdout",
     "output_type": "stream",
     "text": [
      "Masa tota M=: 1.0\n",
      "relación de masas q= 0.8055555555555556\n",
      "separación 440.37940379403796\n",
      "tiempo total 2.2731327404102847e-11\n"
     ]
    }
   ],
   "source": [
    "from math import *\n",
    "#import sys \n",
    "from scipy.constants import G\n",
    "from scipy.constants import c\n",
    "\n",
    "#1 masa solar de distancia (en kilometros ) es:\n",
    "solar_mass_distance = 1.476 \n",
    "solar_mass = 1.98847e30\n",
    "\n",
    "#1 masa solar de tiempo (en segundo) es:\n",
    "solar_mass_time = 4.925e-6\n",
    "\n",
    "D = 10.0                    # Separation\n",
    "q = 36.0/29.0               # Mass ratio: q = mp/mm >= 1\n",
    "M = 1.0                     # Total mass\n",
    "chip =  0.31                # Dimensionsless z component of spin of + BH (x0 > 0, more massive)\n",
    "chim = -0.46                # Dimensionsless z component of spin of - BH (x0 < 0, less massive)\n",
    "Pr = -0.00084541526517121;  # Radial linear momentum\n",
    "Pphi = 0.09530152296974252; # Azimuthal linear momentum\n",
    "\n",
    "\n",
    "#Separación de los agujeros negros  350 km\n",
    "\n",
    "separacion = 650/solar_mass_distance\n",
    "bbhm_solar_mass = 36.0*solar_mass\n",
    "\n",
    "#tiempo de colisión \n",
    "\n",
    "                              \n",
    "merge_time = (tiempo_de_colision/solar_mass_time)\n",
    "#La distancia luminica D de la fuente al receptor es de 140 Mpc (1Mpc = 1e6 pc)\n",
    "luminical_distance = 4.32e+21 / 1.476\n",
    "\n",
    "\n",
    "#Al reescalar a la masas total del sistema binario M = 36.0+29.0 = 65  \n",
    "\n",
    "\n",
    "\n",
    "print (\"Masa tota M=:\",M )\n",
    "print (\"relación de masas q=\",1/q)\n",
    "print (\"separación\",separacion)\n",
    "print(\"tiempo total\",merge_time)"
   ]
  },
  {
   "cell_type": "code",
   "execution_count": 27,
   "id": "c923119a",
   "metadata": {},
   "outputs": [
    {
     "name": "stdout",
     "output_type": "stream",
     "text": [
      "la masa mayor es mp= 0.5538461538461539\n",
      "la masa mayor es mm= 0.4461538461538462\n",
      "790.4169659961684\n",
      "790.4169659961685\n"
     ]
    }
   ],
   "source": [
    "mp = M * q/(1+q)           # Heavier, larger BH, AH1, SS 0\n",
    "mm = M * 1/(1+q)           # Lighter, smaller BH, AH2, SS 1\n",
    "print (\"la masa mayor es mp=\",mp)\n",
    "print (\"la masa mayor es mm=\",mm)\n",
    "\n",
    "tiempo_de_colision = (5/256)*(10**4/(mp*mm*(mp+mm)))\n",
    "\n",
    "print (tiempo_de_colision)\n"
   ]
  },
  {
   "cell_type": "code",
   "execution_count": 4,
   "id": "e118bbc6",
   "metadata": {},
   "outputs": [
    {
     "name": "stdout",
     "output_type": "stream",
     "text": [
      "la distancia de la masa mayor es xp= 4.461538461538462\n",
      "la distancia de la masa mayor es xm= -5.538461538461538\n",
      "mitad de la distancia D =  5.0\n"
     ]
    }
   ],
   "source": [
    "xp     = D * mm\n",
    "xm     = -D * mp\n",
    "half_D = D/2.0\n",
    "print(\"la distancia de la masa mayor es xp=\",xp)\n",
    "print(\"la distancia de la masa mayor es xm=\",xm)\n",
    "print (\"mitad de la distancia D = \",half_D)"
   ]
  },
  {
   "cell_type": "code",
   "execution_count": null,
   "id": "57766bb9",
   "metadata": {},
   "outputs": [],
   "source": []
  },
  {
   "cell_type": "code",
   "execution_count": 5,
   "id": "2cce4f26",
   "metadata": {},
   "outputs": [
    {
     "name": "stdout",
     "output_type": "stream",
     "text": [
      "desplazamiento central  offset= -0.5384615384615383\n"
     ]
    }
   ],
   "source": [
    "center_offset = xp -half_D\n",
    "print (\"desplazamiento central  offset=\",center_offset)"
   ]
  },
  {
   "cell_type": "code",
   "execution_count": 15,
   "id": "bd5acbd8",
   "metadata": {},
   "outputs": [
    {
     "name": "stdout",
     "output_type": "stream",
     "text": [
      "momento en la dirección x, para la masa mayor Px= -0.00084541526517121\n",
      "momento en la dirección y, para la masa mayor Py= 0.09530152296974252\n",
      "momento en la dirección z, para la masa mayor Pz= 0\n",
      "\n",
      "momento en la dirección x, para la masa menor Px= 0.00084541526517121\n",
      "momento en la dirección y, para la masa menor Py= -0.09530152296974252\n",
      "momento en la dirección z, para la masa menor Pz= 0\n",
      "\n",
      "momento angular en la dirección x, para la masa menor Sx= 0.0\n",
      "momento angular en la dirección y, para la masa menor Sy= 0.0\n",
      "momento angular en la dirección z, para la masa menor Sz= -0.09156449704142013\n",
      "\n",
      "momento angular en la dirección x, para la masa mayor Sx= 0.0\n",
      "momento angular en la dirección y, para la masa mayor Sy= 0.0\n",
      "momento angular en la dirección z, para la masa mayor Sz= 0.09509112426035504\n",
      "\n",
      "parametro de momento angular para la masa menor am -0.20523076923076924\n",
      "parametro de momento angular para la masa mayor ap 0.1716923076923077\n",
      "\n",
      "radio del horizonte de eventos para la masa mayor r+p 1.080407939023798\n",
      "radio del horizonte de eventos para la masa menor r+m 0.8423022852506279\n"
     ]
    }
   ],
   "source": [
    "Spx = 0.;\n",
    "Spy = 0.;\n",
    "Spz = chip * mp**2;\n",
    "\n",
    "Smx = 0.;\n",
    "Smy = 0.;\n",
    "Smz = chim * mm**2;\n",
    "\n",
    "Ppx = Pr\n",
    "Ppy = Pphi\n",
    "Ppz = 0\n",
    "\n",
    "Pmx = -Ppx\n",
    "Pmy = -Ppy\n",
    "Pmz = -Ppz\n",
    "\n",
    "# parametro de mometo angular por unidad de masas \n",
    "a_m = Smz/mm \n",
    "a_p = Spz/mp\n",
    "\n",
    "\n",
    "#Radio del horizonte de eventos \n",
    "r_eventos_p = mp+sqrt(mp**2-a_p**2)\n",
    "r_eventos_m = mm+sqrt(mm**2-a_m**2)\n",
    "print(\"momento en la dirección x, para la masa mayor Px=\", Ppx)\n",
    "print(\"momento en la dirección y, para la masa mayor Py=\", Ppy)\n",
    "print(\"momento en la dirección z, para la masa mayor Pz=\",Ppz)\n",
    "print()\n",
    "print(\"momento en la dirección x, para la masa menor Px=\", Pmx)\n",
    "print(\"momento en la dirección y, para la masa menor Py=\", Pmy)\n",
    "print(\"momento en la dirección z, para la masa menor Pz=\",Pmz)\n",
    "print()\n",
    "print(\"momento angular en la dirección x, para la masa menor Sx=\", Smx)\n",
    "print(\"momento angular en la dirección y, para la masa menor Sy=\", Smy)\n",
    "print(\"momento angular en la dirección z, para la masa menor Sz=\",Smz)\n",
    "print()\n",
    "print(\"momento angular en la dirección x, para la masa mayor Sx=\", Spx)\n",
    "print(\"momento angular en la dirección y, para la masa mayor Sy=\", Spy)\n",
    "print(\"momento angular en la dirección z, para la masa mayor Sz=\",Spz)\n",
    "print()\n",
    "print(\"parametro de momento angular para la masa menor am\",a_m)\n",
    "print(\"parametro de momento angular para la masa mayor ap\",a_p)\n",
    "print()\n",
    "print(\"radio del horizonte de eventos para la masa mayor r+p\",r_eventos_p)\n",
    "print(\"radio del horizonte de eventos para la masa menor r+m\",r_eventos_m)"
   ]
  },
  {
   "cell_type": "code",
   "execution_count": 7,
   "id": "9eb23747",
   "metadata": {},
   "outputs": [
    {
     "name": "stdout",
     "output_type": "stream",
     "text": [
      "Número de celdas en el radio de cuadrícula más fino n= 28\n",
      "iteraciones  7\n"
     ]
    }
   ],
   "source": [
    "#Variable que especefica al correr la simulación \n",
    "n = 28\n",
    "\n",
    "i = int(n/4)\n",
    "\n",
    "print (\"Número de celdas en el radio de cuadrícula más fino n=\",n)\n",
    "print (\"iteraciones \",i )"
   ]
  },
  {
   "cell_type": "code",
   "execution_count": 8,
   "id": "d12d6399",
   "metadata": {},
   "outputs": [
    {
     "name": "stdout",
     "output_type": "stream",
     "text": [
      "Número de celdas de la cuadricula por direccion angular  28\n"
     ]
    }
   ],
   "source": [
    "n_angular = 2*i*2\n",
    "\n",
    "print (\"Número de celdas de la cuadricula por direccion angular \",n_angular)"
   ]
  },
  {
   "cell_type": "code",
   "execution_count": 9,
   "id": "a00c90b7",
   "metadata": {},
   "outputs": [
    {
     "name": "stdout",
     "output_type": "stream",
     "text": [
      "radio aparente del horizonte aparente mayor =  0.5538461538461539\n",
      "radio aparente del horizonte aparente menor =  0.4461538461538462\n"
     ]
    }
   ],
   "source": [
    "# Radios eventuales estimados del horizonte aparente \n",
    "#horizonte aparente de la masa mayor \n",
    "ahrp = mp*1.0\n",
    "\n",
    "#horizonte aparante de la masas menor \n",
    "ahrm = mm*1.0\n",
    "print (\"radio aparente del horizonte aparente mayor = \",ahrp)\n",
    "print (\"radio aparente del horizonte aparente menor = \",ahrm)\n",
    "\n"
   ]
  },
  {
   "cell_type": "code",
   "execution_count": 19,
   "id": "36ca225e",
   "metadata": {},
   "outputs": [
    {
     "name": "stdout",
     "output_type": "stream",
     "text": [
      "radio de la caja alrededor del radio mayor  0.6646153846153846\n",
      "radio de la caja alrededor del radio menor  0.5353846153846153\n"
     ]
    }
   ],
   "source": [
    "#Tamaño de la coordenada de la \"caja\" alrededor de cada BH\n",
    "#Radio masa mayor \n",
    "rp = ahrp*1.2\n",
    "\n",
    "#Radio masa menor\n",
    "rm = ahrm*1.2\n",
    "\n",
    "print (\"radio de la caja alrededor del radio mayor \",rp)\n",
    "print (\"radio de la caja alrededor del radio menor \",rm)"
   ]
  },
  {
   "cell_type": "code",
   "execution_count": 20,
   "id": "f4673d68",
   "metadata": {},
   "outputs": [
    {
     "name": "stdout",
     "output_type": "stream",
     "text": [
      "espaciamiento de malla  1.92\n",
      "valor maximo de rls  9\n"
     ]
    }
   ],
   "source": [
    "#espaciamiento radial minimo aceptable \n",
    "hr_min = 2*0.96*M\n",
    "maxrls = 9\n",
    "\n",
    "print (\"espaciamiento de malla \",hr_min)\n",
    "print (\"valor maximo de rls \",maxrls)"
   ]
  },
  {
   "cell_type": "code",
   "execution_count": 21,
   "id": "e1413337",
   "metadata": {},
   "outputs": [
    {
     "name": "stdout",
     "output_type": "stream",
     "text": [
      "0.022307692307692306\n"
     ]
    }
   ],
   "source": [
    "n_min = 24\n",
    "hfm_min = rm /n_min\n",
    "print(hfm_min)"
   ]
  },
  {
   "cell_type": "code",
   "execution_count": 28,
   "id": "c36b628d",
   "metadata": {},
   "outputs": [
    {
     "name": "stdout",
     "output_type": "stream",
     "text": [
      "7\n",
      "1.4276923076923076\n"
     ]
    }
   ],
   "source": [
    "from math import *\n",
    "\n",
    "rlsm = 1 + int(log(hr_min/hfm_min,2)) # Number of refinements to attain hr_min\n",
    "h0_min = hfm_min * 2**(rlsm-1) # RL0 Cartesian spacing\n",
    "\n",
    "print (rlsm)\n",
    "print (h0_min)"
   ]
  },
  {
   "cell_type": "code",
   "execution_count": 24,
   "id": "e0ead0c0",
   "metadata": {},
   "outputs": [
    {
     "name": "stdout",
     "output_type": "stream",
     "text": [
      "[0,17.132308,8.566154,4.283077,2.141538,1.070769,0.535385]\n"
     ]
    }
   ],
   "source": [
    "levelsm = \"[0,\" + \",\".join([\"%f\" %(rm*2**(rlsm-l-1)) for l in range(1,rlsm)])+\"]\"\n",
    "print(levelsm)"
   ]
  },
  {
   "cell_type": "code",
   "execution_count": 26,
   "id": "43c2c43e",
   "metadata": {},
   "outputs": [
    {
     "name": "stdout",
     "output_type": "stream",
     "text": [
      "1.2237362637362637\n"
     ]
    }
   ],
   "source": [
    "hr = h0_min * float(n_min)/float(n)\n",
    "print (hr)"
   ]
  },
  {
   "cell_type": "code",
   "execution_count": 27,
   "id": "e48e0f61",
   "metadata": {},
   "outputs": [
    {
     "name": "stdout",
     "output_type": "stream",
     "text": [
      "1.2237362637362637\n"
     ]
    }
   ],
   "source": [
    "h0 = h0_min * float(n_min)/float(n)\n",
    "print(h0)"
   ]
  },
  {
   "cell_type": "code",
   "execution_count": 37,
   "id": "9511039f",
   "metadata": {},
   "outputs": [
    {
     "name": "stdout",
     "output_type": "stream",
     "text": [
      "Tiempo de fusión expected_merger= 1000.0 \n",
      "tiempo despues de la fusión time after merger = 200.0\n",
      "Tamaño de la forma de onda waveform detector= 1200.0\n",
      "Distancia del detector más alejado outermost detector= 500.0\n",
      "Tiempo final final time =  1700.0\n",
      "radio de la esfera interna =  51.39692307692307\n",
      "radio de la esfera externa =  2194.1591208791206\n"
     ]
    }
   ],
   "source": [
    "sphere_inner_radius = 45\n",
    "expected_merger = 1000.0\n",
    "\n",
    "\n",
    "time_after_merger = 200.0\n",
    "waveform_length = expected_merger + time_after_merger\n",
    "outermost_detector = 500.0\n",
    "final_time = waveform_length + outermost_detector\n",
    "sphere_outer_radius = int((outermost_detector + final_time)/(i*hr))*i*hr\n",
    "sphere_outer_radius = int(sphere_outer_radius / hr) * hr + hr # round up to a multiple of hr\n",
    "sphere_inner_radius = int(ceil(sphere_inner_radius/(i*h0))) * h0 * i\n",
    "\n",
    "print(\"Tiempo de fusión expected_merger=\",expected_merger,\"\\ntiempo despues de la fusión time after merger =\",time_after_merger)\n",
    "print(\"Tamaño de la forma de onda waveform detector=\",waveform_length)\n",
    "print(\"Distancia del detector más alejado outermost detector=\",outermost_detector)\n",
    "print(\"Tiempo final final time = \",final_time)\n",
    "print(\"radio de la esfera interna = \",sphere_inner_radius)\n",
    "print(\"radio de la esfera externa = \",sphere_outer_radius)"
   ]
  },
  {
   "cell_type": "code",
   "execution_count": 47,
   "id": "5c94f480",
   "metadata": {},
   "outputs": [
    {
     "name": "stdout",
     "output_type": "stream",
     "text": [
      "Factor de Courant  0.45\n",
      "Frecuencia de Rl0 0.225\n",
      "Paso de tiempo en RL0 0.2753406593406593\n",
      "128\n",
      "128\n"
     ]
    }
   ],
   "source": [
    "#Frecuencias \n",
    "\n",
    "\n",
    "dtdx  = 0.45  #Factor de Courant \n",
    "dtdx0 = dtdx*0.5 #RLO se evoluciona con las misma frecuencia que RL1\n",
    "dt0 = dtdx0 *h0\n",
    "\n",
    "rl0_every = 2**(maxrls-2) \n",
    "rl1_every = rl0_every\n",
    "print(\"Factor de Courant \",dtdx )\n",
    "print (\"Frecuencia de Rl0\", dtdx0)\n",
    "print (\"Paso de tiempo en RL0\",dt0)\n",
    "print (rl0_every)\n",
    "print (rl1_every)"
   ]
  },
  {
   "cell_type": "code",
   "execution_count": 55,
   "id": "a4ce30ab",
   "metadata": {},
   "outputs": [
    {
     "name": "stdout",
     "output_type": "stream",
     "text": [
      "8\n",
      "0.002151098901098901\n",
      "371902\n",
      "256\n",
      "256\n",
      "128\n",
      "1024\n"
     ]
    }
   ],
   "source": [
    "rl_max = maxrls-1\n",
    "dt_it = dt0/2.0**(rl_max-1) # Time step of one iteration\n",
    "find_cah = max(int((expected_merger - 200)/dt_it), 0)\n",
    "wave_extract_every = rl0_every * 2 # Every other coarse grid step\n",
    "                                   # (TODO: should this be every\n",
    "                                   # coarse grid step?)\n",
    "horizon_every = rl0_every * 2\n",
    "out_every = rl0_every\n",
    "# out3d_every = rl0_every * 2\n",
    "out3d_every = 0\n",
    "out2d_every = rl0_every * 8\n",
    "\n",
    "print (rl_max)\n",
    "print (dt_it )\n",
    "print(find_cah)\n",
    "print(wave_extract_every)\n",
    "print(horizon_every)\n",
    "print(out_every)\n",
    "print(out2d_every)"
   ]
  },
  {
   "cell_type": "code",
   "execution_count": 20,
   "id": "f65df8e2",
   "metadata": {},
   "outputs": [],
   "source": [
    "if (Spx != 0. or Spy != 0. or Smx != 0. or Smy != 0.):\n",
    "    sys.stderr.write(\"This parameter file employs z-symmetry via the 'Coordinates::symmetry=\\\"+z bitant\\\"' setting. Therefore all spins must be in the z-direction only.\\n\");\n",
    "    sys.exit(1)"
   ]
  },
  {
   "cell_type": "code",
   "execution_count": 35,
   "id": "d4651c2c",
   "metadata": {},
   "outputs": [],
   "source": [
    "\n",
    "\n"
   ]
  },
  {
   "cell_type": "code",
   "execution_count": 22,
   "id": "d26230f0",
   "metadata": {},
   "outputs": [],
   "source": []
  },
  {
   "cell_type": "code",
   "execution_count": 25,
   "id": "cadc098e",
   "metadata": {},
   "outputs": [],
   "source": []
  },
  {
   "cell_type": "code",
   "execution_count": null,
   "id": "7bf9d3bc",
   "metadata": {},
   "outputs": [],
   "source": []
  },
  {
   "cell_type": "code",
   "execution_count": null,
   "id": "39e3ac78",
   "metadata": {},
   "outputs": [],
   "source": []
  },
  {
   "cell_type": "code",
   "execution_count": null,
   "id": "c7a0192f",
   "metadata": {},
   "outputs": [],
   "source": []
  },
  {
   "cell_type": "code",
   "execution_count": null,
   "id": "c56031ff",
   "metadata": {},
   "outputs": [],
   "source": []
  }
 ],
 "metadata": {
  "kernelspec": {
   "display_name": "Python 3 (ipykernel)",
   "language": "python",
   "name": "python3"
  },
  "language_info": {
   "codemirror_mode": {
    "name": "ipython",
    "version": 3
   },
   "file_extension": ".py",
   "mimetype": "text/x-python",
   "name": "python",
   "nbconvert_exporter": "python",
   "pygments_lexer": "ipython3",
   "version": "3.10.12"
  }
 },
 "nbformat": 4,
 "nbformat_minor": 5
}
