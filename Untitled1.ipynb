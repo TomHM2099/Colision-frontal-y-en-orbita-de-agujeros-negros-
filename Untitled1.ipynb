{
 "cells": [
  {
   "cell_type": "code",
   "execution_count": 3,
   "id": "e8bcd93d",
   "metadata": {},
   "outputs": [],
   "source": [
    "#Cargamos las librerías necesarias \n",
    "import sys \n",
    "from math import *\n"
   ]
  },
  {
   "cell_type": "code",
   "execution_count": 4,
   "id": "72c51b3c",
   "metadata": {},
   "outputs": [],
   "source": [
    "#Defeinimos las constantes a utilizar:\n",
    "\n",
    "#1 masa solar de distancia (en metros ) es:\n",
    "solar_mass_distance = 1476.66 \n",
    "\n",
    "#1 masa solar de tiempo (en segundo) es:\n",
    "solar_mass_time = 4.925e-6\n",
    "\n",
    "D = 10.0                    # Separation\n",
    "q = 36.0/29.0               # Mass ratio: q = mp/mm >= 1\n",
    "M = 1.0                     # Total mass\n",
    "chip =  0.31                # Dimensionsless z component of spin of + BH (x0 > 0, more massive)\n",
    "chim = -0.46                # Dimensionsless z component of spin of - BH (x0 < 0, less massive)\n",
    "Pr = -0.00084541526517121;  # Radial linear momentum\n",
    "Pphi = 0.09530152296974252; # Azimuthal linear momentum\n",
    "\n",
    "#La distancia luminica D de la fuente al receptor es de 140 Mpc (1Mpc = 1e6 pc)\n",
    "luminical_distance = 4.32e+21 / 1.476\n",
    "\n",
    "#Al reescalar a la masas total del sistema binario M = 36.0+29.0 = 65  \n"
   ]
  },
  {
   "cell_type": "code",
   "execution_count": null,
   "id": "e84dbae7",
   "metadata": {},
   "outputs": [],
   "source": []
  }
 ],
 "metadata": {
  "kernelspec": {
   "display_name": "Python 3 (ipykernel)",
   "language": "python",
   "name": "python3"
  },
  "language_info": {
   "codemirror_mode": {
    "name": "ipython",
    "version": 3
   },
   "file_extension": ".py",
   "mimetype": "text/x-python",
   "name": "python",
   "nbconvert_exporter": "python",
   "pygments_lexer": "ipython3",
   "version": "3.10.12"
  }
 },
 "nbformat": 4,
 "nbformat_minor": 5
}
