{
 "cells": [
  {
   "cell_type": "code",
   "execution_count": 1,
   "id": "ea1a3ea6",
   "metadata": {},
   "outputs": [],
   "source": [
    "import kuibit.simdir as sd"
   ]
  },
  {
   "cell_type": "code",
   "execution_count": 2,
   "id": "fe40bdf4",
   "metadata": {},
   "outputs": [],
   "source": [
    "bbh_GW150914 = sd.SimDir('/home/tom/GW150914/155394/GW150914_28/output-0000/GW150914_28')"
   ]
  },
  {
   "cell_type": "code",
   "execution_count": 3,
   "id": "49ef06e9",
   "metadata": {},
   "outputs": [
    {
     "name": "stdout",
     "output_type": "stream",
     "text": [
      "Indexed 352 files and 2 subdirectories\n",
      "Folder /home/tom/GW150914/155394/GW150914_28/output-0000/GW150914_28\n",
      "/home/tom/GW150914/155394/GW150914_28/output-0000/GW150914_28\n",
      "Available scalar timeseries:\n",
      "['qlm_time[0]', 'qlm_time[1]', 'qlm_time[2]', 'qlm_equatorial_circumference[0]', 'qlm_equatorial_circumference[1]', 'qlm_equatorial_circumference[2]', 'qlm_polar_circumference_0[0]', 'qlm_polar_circumference_0[1]', 'qlm_polar_circumference_0[2]', 'qlm_polar_circumference_pi_2[0]', 'qlm_polar_circumference_pi_2[1]', 'qlm_polar_circumference_pi_2[2]', 'qlm_area[0]', 'qlm_area[1]', 'qlm_area[2]', 'qlm_irreducible_mass[0]', 'qlm_irreducible_mass[1]', 'qlm_irreducible_mass[2]', 'qlm_radius[0]', 'qlm_radius[1]', 'qlm_radius[2]', 'qlm_spin_guess[0]', 'qlm_spin_guess[1]', 'qlm_spin_guess[2]', 'qlm_mass_guess[0]', 'qlm_mass_guess[1]', 'qlm_mass_guess[2]', 'qlm_killing_eigenvalue_re[0]', 'qlm_killing_eigenvalue_re[1]', 'qlm_killing_eigenvalue_re[2]', 'qlm_killing_eigenvalue_im[0]', 'qlm_killing_eigenvalue_im[1]', 'qlm_killing_eigenvalue_im[2]', 'qlm_spin[0]', 'qlm_spin[1]', 'qlm_spin[2]', 'qlm_npspin[0]', 'qlm_npspin[1]', 'qlm_npspin[2]', 'qlm_wsspin[0]', 'qlm_wsspin[1]', 'qlm_wsspin[2]', 'qlm_cvspin[0]', 'qlm_cvspin[1]', 'qlm_cvspin[2]', 'qlm_coordspinx[0]', 'qlm_coordspinx[1]', 'qlm_coordspinx[2]', 'qlm_coordspiny[0]', 'qlm_coordspiny[1]', 'qlm_coordspiny[2]', 'qlm_coordspinz[0]', 'qlm_coordspinz[1]', 'qlm_coordspinz[2]', 'qlm_mass[0]', 'qlm_mass[1]', 'qlm_mass[2]', 'qlm_adm_energy[0]', 'qlm_adm_energy[1]', 'qlm_adm_energy[2]', 'qlm_adm_momentum_x[0]', 'qlm_adm_momentum_x[1]', 'qlm_adm_momentum_x[2]', 'qlm_adm_momentum_y[0]', 'qlm_adm_momentum_y[1]', 'qlm_adm_momentum_y[2]', 'qlm_adm_momentum_z[0]', 'qlm_adm_momentum_z[1]', 'qlm_adm_momentum_z[2]', 'qlm_adm_angular_momentum_x[0]', 'qlm_adm_angular_momentum_x[1]', 'qlm_adm_angular_momentum_x[2]', 'qlm_adm_angular_momentum_y[0]', 'qlm_adm_angular_momentum_y[1]', 'qlm_adm_angular_momentum_y[2]', 'qlm_adm_angular_momentum_z[0]', 'qlm_adm_angular_momentum_z[1]', 'qlm_adm_angular_momentum_z[2]', 'qlm_w_energy[0]', 'qlm_w_energy[1]', 'qlm_w_energy[2]', 'qlm_w_momentum_x[0]', 'qlm_w_momentum_x[1]', 'qlm_w_momentum_x[2]', 'qlm_w_momentum_y[0]', 'qlm_w_momentum_y[1]', 'qlm_w_momentum_y[2]', 'qlm_w_momentum_z[0]', 'qlm_w_momentum_z[1]', 'qlm_w_momentum_z[2]', 'qlm_w_angular_momentum_x[0]', 'qlm_w_angular_momentum_x[1]', 'qlm_w_angular_momentum_x[2]', 'qlm_w_angular_momentum_y[0]', 'qlm_w_angular_momentum_y[1]', 'qlm_w_angular_momentum_y[2]', 'qlm_w_angular_momentum_z[0]', 'qlm_w_angular_momentum_z[1]', 'qlm_w_angular_momentum_z[2]', 'pt_loc_t[0]', 'pt_loc_t[1]', 'pt_loc_t[2]', 'pt_loc_t[3]', 'pt_loc_t[4]', 'pt_loc_t[5]', 'pt_loc_t[6]', 'pt_loc_t[7]', 'pt_loc_t[8]', 'pt_loc_t[9]', 'pt_loc_x[0]', 'pt_loc_x[1]', 'pt_loc_x[2]', 'pt_loc_x[3]', 'pt_loc_x[4]', 'pt_loc_x[5]', 'pt_loc_x[6]', 'pt_loc_x[7]', 'pt_loc_x[8]', 'pt_loc_x[9]', 'pt_loc_y[0]', 'pt_loc_y[1]', 'pt_loc_y[2]', 'pt_loc_y[3]', 'pt_loc_y[4]', 'pt_loc_y[5]', 'pt_loc_y[6]', 'pt_loc_y[7]', 'pt_loc_y[8]', 'pt_loc_y[9]', 'pt_loc_z[0]', 'pt_loc_z[1]', 'pt_loc_z[2]', 'pt_loc_z[3]', 'pt_loc_z[4]', 'pt_loc_z[5]', 'pt_loc_z[6]', 'pt_loc_z[7]', 'pt_loc_z[8]', 'pt_loc_z[9]', 'physical_time_per_hour', 'current_physical_time_per_hour', 'time_total', 'time_evolution', 'time_computing', 'time_communicating', 'time_io', 'evolution_steps_count', 'local_grid_points_per_second', 'total_grid_points_per_second', 'local_grid_point_updates_count', 'total_grid_point_updates_count', 'local_interior_points_per_second', 'total_interior_points_per_second', 'local_interior_point_updates_count', 'total_interior_point_updates_count', 'io_per_second', 'io_bytes_per_second', 'io_bytes_ascii_per_second', 'io_bytes_binary_per_second', 'io_count', 'io_bytes_count', 'io_bytes_ascii_count', 'io_bytes_binary_count', 'comm_per_second', 'comm_bytes_per_second', 'comm_count', 'comm_bytes_count', 'time_levels']\n",
      "\n",
      "Available minimum timeseries:\n",
      "['maxrss_mb', 'majflt_mb', 'arena_mb', 'ordblks_mb', 'hblks_mb', 'hblkhd_mb', 'uordblks_mb', 'fordblks_mb', 'keepcost_mb', 'swap_used_mb']\n",
      "\n",
      "Available maximum timeseries:\n",
      "['maxrss_mb', 'majflt_mb', 'arena_mb', 'ordblks_mb', 'hblks_mb', 'hblkhd_mb', 'uordblks_mb', 'fordblks_mb', 'keepcost_mb', 'swap_used_mb']\n",
      "\n",
      "Available norm1 timeseries:\n",
      "[]\n",
      "\n",
      "Available norm2 timeseries:\n",
      "[]\n",
      "\n",
      "Available average timeseries:\n",
      "['maxrss_mb', 'majflt_mb', 'arena_mb', 'ordblks_mb', 'hblks_mb', 'hblkhd_mb', 'uordblks_mb', 'fordblks_mb', 'keepcost_mb', 'swap_used_mb']\n",
      "Variables available: dict_keys(['psi4'])\n",
      "For variable psi4:\n",
      "\n",
      "Avilable radii: [100.0, 115.0, 136.0, 167.0, 214.0, 300.0, 500.0]\n",
      "\n",
      "At radius 100.0, (l, m) available: [(0, 0), (1, -1), (1, 0), (1, 1), (2, -1), (2, -2), (2, 0), (2, 1), (2, 2), (3, -1), (3, -2), (3, -3), (3, 0), (3, 1), (3, 2), (3, 3), (4, -1), (4, -2), (4, -3), (4, -4), (4, 0), (4, 1), (4, 2), (4, 3), (4, 4), (5, -1), (5, -2), (5, -3), (5, -4), (5, -5), (5, 0), (5, 1), (5, 2), (5, 3), (5, 4), (5, 5), (6, -1), (6, -2), (6, -3), (6, -4), (6, -5), (6, -6), (6, 0), (6, 1), (6, 2), (6, 3), (6, 4), (6, 5), (6, 6), (7, -1), (7, -2), (7, -3), (7, -4), (7, -5), (7, -6), (7, -7), (7, 0), (7, 1), (7, 2), (7, 3), (7, 4), (7, 5), (7, 6), (7, 7), (8, -1), (8, -2), (8, -3), (8, -4), (8, -5), (8, -6), (8, -7), (8, -8), (8, 0), (8, 1), (8, 2), (8, 3), (8, 4), (8, 5), (8, 6), (8, 7), (8, 8)]\n",
      "At radius 115.0, (l, m) available: [(0, 0), (1, -1), (1, 0), (1, 1), (2, -1), (2, -2), (2, 0), (2, 1), (2, 2), (3, -1), (3, -2), (3, -3), (3, 0), (3, 1), (3, 2), (3, 3), (4, -1), (4, -2), (4, -3), (4, -4), (4, 0), (4, 1), (4, 2), (4, 3), (4, 4), (5, -1), (5, -2), (5, -3), (5, -4), (5, -5), (5, 0), (5, 1), (5, 2), (5, 3), (5, 4), (5, 5), (6, -1), (6, -2), (6, -3), (6, -4), (6, -5), (6, -6), (6, 0), (6, 1), (6, 2), (6, 3), (6, 4), (6, 5), (6, 6), (7, -1), (7, -2), (7, -3), (7, -4), (7, -5), (7, -6), (7, -7), (7, 0), (7, 1), (7, 2), (7, 3), (7, 4), (7, 5), (7, 6), (7, 7), (8, -1), (8, -2), (8, -3), (8, -4), (8, -5), (8, -6), (8, -7), (8, -8), (8, 0), (8, 1), (8, 2), (8, 3), (8, 4), (8, 5), (8, 6), (8, 7), (8, 8)]\n",
      "At radius 136.0, (l, m) available: [(0, 0), (1, -1), (1, 0), (1, 1), (2, -1), (2, -2), (2, 0), (2, 1), (2, 2), (3, -1), (3, -2), (3, -3), (3, 0), (3, 1), (3, 2), (3, 3), (4, -1), (4, -2), (4, -3), (4, -4), (4, 0), (4, 1), (4, 2), (4, 3), (4, 4), (5, -1), (5, -2), (5, -3), (5, -4), (5, -5), (5, 0), (5, 1), (5, 2), (5, 3), (5, 4), (5, 5), (6, -1), (6, -2), (6, -3), (6, -4), (6, -5), (6, -6), (6, 0), (6, 1), (6, 2), (6, 3), (6, 4), (6, 5), (6, 6), (7, -1), (7, -2), (7, -3), (7, -4), (7, -5), (7, -6), (7, -7), (7, 0), (7, 1), (7, 2), (7, 3), (7, 4), (7, 5), (7, 6), (7, 7), (8, -1), (8, -2), (8, -3), (8, -4), (8, -5), (8, -6), (8, -7), (8, -8), (8, 0), (8, 1), (8, 2), (8, 3), (8, 4), (8, 5), (8, 6), (8, 7), (8, 8)]\n",
      "At radius 167.0, (l, m) available: [(0, 0), (1, -1), (1, 0), (1, 1), (2, -1), (2, -2), (2, 0), (2, 1), (2, 2), (3, -1), (3, -2), (3, -3), (3, 0), (3, 1), (3, 2), (3, 3), (4, -1), (4, -2), (4, -3), (4, -4), (4, 0), (4, 1), (4, 2), (4, 3), (4, 4), (5, -1), (5, -2), (5, -3), (5, -4), (5, -5), (5, 0), (5, 1), (5, 2), (5, 3), (5, 4), (5, 5), (6, -1), (6, -2), (6, -3), (6, -4), (6, -5), (6, -6), (6, 0), (6, 1), (6, 2), (6, 3), (6, 4), (6, 5), (6, 6), (7, -1), (7, -2), (7, -3), (7, -4), (7, -5), (7, -6), (7, -7), (7, 0), (7, 1), (7, 2), (7, 3), (7, 4), (7, 5), (7, 6), (7, 7), (8, -1), (8, -2), (8, -3), (8, -4), (8, -5), (8, -6), (8, -7), (8, -8), (8, 0), (8, 1), (8, 2), (8, 3), (8, 4), (8, 5), (8, 6), (8, 7), (8, 8)]\n",
      "At radius 214.0, (l, m) available: [(0, 0), (1, -1), (1, 0), (1, 1), (2, -1), (2, -2), (2, 0), (2, 1), (2, 2), (3, -1), (3, -2), (3, -3), (3, 0), (3, 1), (3, 2), (3, 3), (4, -1), (4, -2), (4, -3), (4, -4), (4, 0), (4, 1), (4, 2), (4, 3), (4, 4), (5, -1), (5, -2), (5, -3), (5, -4), (5, -5), (5, 0), (5, 1), (5, 2), (5, 3), (5, 4), (5, 5), (6, -1), (6, -2), (6, -3), (6, -4), (6, -5), (6, -6), (6, 0), (6, 1), (6, 2), (6, 3), (6, 4), (6, 5), (6, 6), (7, -1), (7, -2), (7, -3), (7, -4), (7, -5), (7, -6), (7, -7), (7, 0), (7, 1), (7, 2), (7, 3), (7, 4), (7, 5), (7, 6), (7, 7), (8, -1), (8, -2), (8, -3), (8, -4), (8, -5), (8, -6), (8, -7), (8, -8), (8, 0), (8, 1), (8, 2), (8, 3), (8, 4), (8, 5), (8, 6), (8, 7), (8, 8)]\n",
      "At radius 300.0, (l, m) available: [(0, 0), (1, -1), (1, 0), (1, 1), (2, -1), (2, -2), (2, 0), (2, 1), (2, 2), (3, -1), (3, -2), (3, -3), (3, 0), (3, 1), (3, 2), (3, 3), (4, -1), (4, -2), (4, -3), (4, -4), (4, 0), (4, 1), (4, 2), (4, 3), (4, 4), (5, -1), (5, -2), (5, -3), (5, -4), (5, -5), (5, 0), (5, 1), (5, 2), (5, 3), (5, 4), (5, 5), (6, -1), (6, -2), (6, -3), (6, -4), (6, -5), (6, -6), (6, 0), (6, 1), (6, 2), (6, 3), (6, 4), (6, 5), (6, 6), (7, -1), (7, -2), (7, -3), (7, -4), (7, -5), (7, -6), (7, -7), (7, 0), (7, 1), (7, 2), (7, 3), (7, 4), (7, 5), (7, 6), (7, 7), (8, -1), (8, -2), (8, -3), (8, -4), (8, -5), (8, -6), (8, -7), (8, -8), (8, 0), (8, 1), (8, 2), (8, 3), (8, 4), (8, 5), (8, 6), (8, 7), (8, 8)]\n",
      "At radius 500.0, (l, m) available: [(0, 0), (1, -1), (1, 0), (1, 1), (2, -1), (2, -2), (2, 0), (2, 1), (2, 2), (3, -1), (3, -2), (3, -3), (3, 0), (3, 1), (3, 2), (3, 3), (4, -1), (4, -2), (4, -3), (4, -4), (4, 0), (4, 1), (4, 2), (4, 3), (4, 4), (5, -1), (5, -2), (5, -3), (5, -4), (5, -5), (5, 0), (5, 1), (5, 2), (5, 3), (5, 4), (5, 5), (6, -1), (6, -2), (6, -3), (6, -4), (6, -5), (6, -6), (6, 0), (6, 1), (6, 2), (6, 3), (6, 4), (6, 5), (6, 6), (7, -1), (7, -2), (7, -3), (7, -4), (7, -5), (7, -6), (7, -7), (7, 0), (7, 1), (7, 2), (7, 3), (7, 4), (7, 5), (7, 6), (7, 7), (8, -1), (8, -2), (8, -3), (8, -4), (8, -5), (8, -6), (8, -7), (8, -8), (8, 0), (8, 1), (8, 2), (8, 3), (8, 4), (8, 5), (8, 6), (8, 7), (8, 8)]\n",
      "\n",
      "Available gravitational wave data\n",
      "Available grid data of dimension 1D (x): \n",
      "[]\n",
      "\n",
      "\n",
      "Available grid data of dimension 1D (y): \n",
      "[]\n",
      "\n",
      "\n",
      "Available grid data of dimension 1D (z): \n",
      "[]\n",
      "\n",
      "\n",
      "Available grid data of dimension 2D (xy): \n",
      "['trK', 'r', 'z', 'x', 'alpha', 'phi', 'y', 'Psi4r', 'Psi4i']\n",
      "\n",
      "\n",
      "Available grid data of dimension 2D (xz): \n",
      "['y', 'Psi4i', 'phi', 'x', 'r', 'z', 'alpha', 'Psi4r', 'trK']\n",
      "\n",
      "\n",
      "Available grid data of dimension 2D (yz): \n",
      "['Psi4i', 'z', 'alpha', 'phi', 'r', 'x', 'y', 'trK', 'Psi4r']\n",
      "\n",
      "\n",
      "Available grid data of dimension 3D (xyz): \n",
      "['curvJr', 'curvJi', 'Psi4r', 'phi', 'curvIi', 'curvIr', 'Psi4i', 'mp_psi4']\n",
      "Horizons found:\n",
      "3 horizons from QuasiLocalMeasures\n",
      "2 horizons from AHFinderDirect\n",
      "Timers available for processes []\n"
     ]
    }
   ],
   "source": [
    "print (bbh_GW150914)"
   ]
  },
  {
   "cell_type": "code",
   "execution_count": 4,
   "id": "74eaef25",
   "metadata": {},
   "outputs": [],
   "source": [
    "GW150914 = bbh_GW150914.gws"
   ]
  },
  {
   "cell_type": "code",
   "execution_count": 6,
   "id": "1090a0d6",
   "metadata": {},
   "outputs": [],
   "source": [
    "horizons = bbh_GW150914.twopunctures"
   ]
  },
  {
   "cell_type": "code",
   "execution_count": 7,
   "id": "ff0532a3",
   "metadata": {},
   "outputs": [
    {
     "name": "stdout",
     "output_type": "stream",
     "text": [
      "<kuibit.cactus_twopunctures.TwoPuncturesDir object at 0x7fb98d58e710>\n"
     ]
    }
   ],
   "source": [
    "print(horizons)"
   ]
  },
  {
   "cell_type": "code",
   "execution_count": 8,
   "id": "477d984a",
   "metadata": {},
   "outputs": [
    {
     "name": "stdout",
     "output_type": "stream",
     "text": [
      "Avilable radii: [100.0, 115.0, 136.0, 167.0, 214.0, 300.0, 500.0]\n",
      "\n",
      "At radius 100.0, (l, m) available: [(2, -2), (2, -1), (2, 0), (2, 1), (2, 2), (3, -3), (3, -2), (3, -1), (3, 0), (3, 1), (3, 2), (3, 3), (4, -4), (4, -3), (4, -2), (4, -1), (4, 0), (4, 1), (4, 2), (4, 3), (4, 4), (5, -5), (5, -4), (5, -3), (5, -2), (5, -1), (5, 0), (5, 1), (5, 2), (5, 3), (5, 4), (5, 5), (6, -6), (6, -5), (6, -4), (6, -3), (6, -2), (6, -1), (6, 0), (6, 1), (6, 2), (6, 3), (6, 4), (6, 5), (6, 6), (7, -7), (7, -6), (7, -5), (7, -4), (7, -3), (7, -2), (7, -1), (7, 0), (7, 1), (7, 2), (7, 3), (7, 4), (7, 5), (7, 6), (7, 7), (8, -8), (8, -7), (8, -6), (8, -5), (8, -4), (8, -3), (8, -2), (8, -1), (8, 0), (8, 1), (8, 2), (8, 3), (8, 4), (8, 5), (8, 6), (8, 7), (8, 8)]\n",
      "At radius 115.0, (l, m) available: [(2, -2), (2, -1), (2, 0), (2, 1), (2, 2), (3, -3), (3, -2), (3, -1), (3, 0), (3, 1), (3, 2), (3, 3), (4, -4), (4, -3), (4, -2), (4, -1), (4, 0), (4, 1), (4, 2), (4, 3), (4, 4), (5, -5), (5, -4), (5, -3), (5, -2), (5, -1), (5, 0), (5, 1), (5, 2), (5, 3), (5, 4), (5, 5), (6, -6), (6, -5), (6, -4), (6, -3), (6, -2), (6, -1), (6, 0), (6, 1), (6, 2), (6, 3), (6, 4), (6, 5), (6, 6), (7, -7), (7, -6), (7, -5), (7, -4), (7, -3), (7, -2), (7, -1), (7, 0), (7, 1), (7, 2), (7, 3), (7, 4), (7, 5), (7, 6), (7, 7), (8, -8), (8, -7), (8, -6), (8, -5), (8, -4), (8, -3), (8, -2), (8, -1), (8, 0), (8, 1), (8, 2), (8, 3), (8, 4), (8, 5), (8, 6), (8, 7), (8, 8)]\n",
      "At radius 136.0, (l, m) available: [(2, -2), (2, -1), (2, 0), (2, 1), (2, 2), (3, -3), (3, -2), (3, -1), (3, 0), (3, 1), (3, 2), (3, 3), (4, -4), (4, -3), (4, -2), (4, -1), (4, 0), (4, 1), (4, 2), (4, 3), (4, 4), (5, -5), (5, -4), (5, -3), (5, -2), (5, -1), (5, 0), (5, 1), (5, 2), (5, 3), (5, 4), (5, 5), (6, -6), (6, -5), (6, -4), (6, -3), (6, -2), (6, -1), (6, 0), (6, 1), (6, 2), (6, 3), (6, 4), (6, 5), (6, 6), (7, -7), (7, -6), (7, -5), (7, -4), (7, -3), (7, -2), (7, -1), (7, 0), (7, 1), (7, 2), (7, 3), (7, 4), (7, 5), (7, 6), (7, 7), (8, -8), (8, -7), (8, -6), (8, -5), (8, -4), (8, -3), (8, -2), (8, -1), (8, 0), (8, 1), (8, 2), (8, 3), (8, 4), (8, 5), (8, 6), (8, 7), (8, 8)]\n",
      "At radius 167.0, (l, m) available: [(2, -2), (2, -1), (2, 0), (2, 1), (2, 2), (3, -3), (3, -2), (3, -1), (3, 0), (3, 1), (3, 2), (3, 3), (4, -4), (4, -3), (4, -2), (4, -1), (4, 0), (4, 1), (4, 2), (4, 3), (4, 4), (5, -5), (5, -4), (5, -3), (5, -2), (5, -1), (5, 0), (5, 1), (5, 2), (5, 3), (5, 4), (5, 5), (6, -6), (6, -5), (6, -4), (6, -3), (6, -2), (6, -1), (6, 0), (6, 1), (6, 2), (6, 3), (6, 4), (6, 5), (6, 6), (7, -7), (7, -6), (7, -5), (7, -4), (7, -3), (7, -2), (7, -1), (7, 0), (7, 1), (7, 2), (7, 3), (7, 4), (7, 5), (7, 6), (7, 7), (8, -8), (8, -7), (8, -6), (8, -5), (8, -4), (8, -3), (8, -2), (8, -1), (8, 0), (8, 1), (8, 2), (8, 3), (8, 4), (8, 5), (8, 6), (8, 7), (8, 8)]\n",
      "At radius 214.0, (l, m) available: [(2, -2), (2, -1), (2, 0), (2, 1), (2, 2), (3, -3), (3, -2), (3, -1), (3, 0), (3, 1), (3, 2), (3, 3), (4, -4), (4, -3), (4, -2), (4, -1), (4, 0), (4, 1), (4, 2), (4, 3), (4, 4), (5, -5), (5, -4), (5, -3), (5, -2), (5, -1), (5, 0), (5, 1), (5, 2), (5, 3), (5, 4), (5, 5), (6, -6), (6, -5), (6, -4), (6, -3), (6, -2), (6, -1), (6, 0), (6, 1), (6, 2), (6, 3), (6, 4), (6, 5), (6, 6), (7, -7), (7, -6), (7, -5), (7, -4), (7, -3), (7, -2), (7, -1), (7, 0), (7, 1), (7, 2), (7, 3), (7, 4), (7, 5), (7, 6), (7, 7), (8, -8), (8, -7), (8, -6), (8, -5), (8, -4), (8, -3), (8, -2), (8, -1), (8, 0), (8, 1), (8, 2), (8, 3), (8, 4), (8, 5), (8, 6), (8, 7), (8, 8)]\n",
      "At radius 300.0, (l, m) available: [(2, -2), (2, -1), (2, 0), (2, 1), (2, 2), (3, -3), (3, -2), (3, -1), (3, 0), (3, 1), (3, 2), (3, 3), (4, -4), (4, -3), (4, -2), (4, -1), (4, 0), (4, 1), (4, 2), (4, 3), (4, 4), (5, -5), (5, -4), (5, -3), (5, -2), (5, -1), (5, 0), (5, 1), (5, 2), (5, 3), (5, 4), (5, 5), (6, -6), (6, -5), (6, -4), (6, -3), (6, -2), (6, -1), (6, 0), (6, 1), (6, 2), (6, 3), (6, 4), (6, 5), (6, 6), (7, -7), (7, -6), (7, -5), (7, -4), (7, -3), (7, -2), (7, -1), (7, 0), (7, 1), (7, 2), (7, 3), (7, 4), (7, 5), (7, 6), (7, 7), (8, -8), (8, -7), (8, -6), (8, -5), (8, -4), (8, -3), (8, -2), (8, -1), (8, 0), (8, 1), (8, 2), (8, 3), (8, 4), (8, 5), (8, 6), (8, 7), (8, 8)]\n",
      "At radius 500.0, (l, m) available: [(2, -2), (2, -1), (2, 0), (2, 1), (2, 2), (3, -3), (3, -2), (3, -1), (3, 0), (3, 1), (3, 2), (3, 3), (4, -4), (4, -3), (4, -2), (4, -1), (4, 0), (4, 1), (4, 2), (4, 3), (4, 4), (5, -5), (5, -4), (5, -3), (5, -2), (5, -1), (5, 0), (5, 1), (5, 2), (5, 3), (5, 4), (5, 5), (6, -6), (6, -5), (6, -4), (6, -3), (6, -2), (6, -1), (6, 0), (6, 1), (6, 2), (6, 3), (6, 4), (6, 5), (6, 6), (7, -7), (7, -6), (7, -5), (7, -4), (7, -3), (7, -2), (7, -1), (7, 0), (7, 1), (7, 2), (7, 3), (7, 4), (7, 5), (7, 6), (7, 7), (8, -8), (8, -7), (8, -6), (8, -5), (8, -4), (8, -3), (8, -2), (8, -1), (8, 0), (8, 1), (8, 2), (8, 3), (8, 4), (8, 5), (8, 6), (8, 7), (8, 8)]\n",
      "\n"
     ]
    }
   ],
   "source": [
    "print(GW150914)"
   ]
  },
  {
   "cell_type": "code",
   "execution_count": 10,
   "id": "29ca8331",
   "metadata": {},
   "outputs": [],
   "source": [
    "#Definimos valores del escalar de Weyl \n",
    "psi4_100 = GW150914[100.0]\n",
    "psi4_115 = GW150914[115.0]\n",
    "psi4_136 = GW150914[136.0]\n",
    "psi4_167 = GW150914[167.0]\n",
    "psi4_214 = GW150914[214.0]\n",
    "psi4_300 = GW150914[300.0]\n",
    "psi4_500 = GW150914[500.0]"
   ]
  },
  {
   "cell_type": "code",
   "execution_count": 19,
   "id": "a8ccd5c8",
   "metadata": {},
   "outputs": [],
   "source": [
    "import matplotlib.pyplot as plt \n",
    "from pylab import*"
   ]
  },
  {
   "cell_type": "code",
   "execution_count": 20,
   "id": "866358c4",
   "metadata": {},
   "outputs": [],
   "source": [
    "# Calculamos el valor momento cuadrupolar\n",
    "\n",
    "psi4_100_22 = psi4_100[(2,2)]\n",
    "psi4_115_22 = psi4_115[(2,2)]\n",
    "psi4_136_22 = psi4_136[(2,2)]\n",
    "psi4_214_22 = psi4_214[(2,2)]\n",
    "psi4_300_22 = psi4_300[(2,2)]\n",
    "psi4_500_22 = psi4_500[(2,2)]"
   ]
  },
  {
   "cell_type": "code",
   "execution_count": 25,
   "id": "d1fa5902",
   "metadata": {},
   "outputs": [
    {
     "data": {
      "image/png": "[encoded data removed]",
      "text/plain": [
       "<Figure size 640x480 with 1 Axes>"
      ]
     },
     "metadata": {},
     "output_type": "display_data"
    }
   ],
   "source": [
    "\n",
    "\n",
    "grid(True)\n",
    "title(\"R=100\")\n",
    "xlabel(\"t [M]\")\n",
    "ylabel(\"$\\Psi_4(2,2)$\")\n",
    "plot(psi4_500_22.\n",
    "\n",
    "\n",
    "\n",
    "tight_layout()\n",
    "show()\n",
    "\n",
    "\n"
   ]
  },
  {
   "cell_type": "code",
   "execution_count": 27,
   "id": "5de1273b",
   "metadata": {},
   "outputs": [],
   "source": [
    "gws_bbh = bbh_GW150914.gravitationalwaves"
   ]
  },
  {
   "cell_type": "code",
   "execution_count": 35,
   "id": "e753e7ea",
   "metadata": {},
   "outputs": [],
   "source": [
    "hor_150914 = bbh_GW150914.horizons"
   ]
  },
  {
   "cell_type": "code",
   "execution_count": 36,
   "id": "20e0205b",
   "metadata": {},
   "outputs": [
    {
     "name": "stdout",
     "output_type": "stream",
     "text": [
      "Horizons found:\n",
      "3 horizons from QuasiLocalMeasures\n",
      "2 horizons from AHFinderDirect\n"
     ]
    }
   ],
   "source": [
    "print(hor_150914)"
   ]
  },
  {
   "cell_type": "code",
   "execution_count": 47,
   "id": "e08bd38f",
   "metadata": {},
   "outputs": [
    {
     "name": "stdout",
     "output_type": "stream",
     "text": [
      "VTK information available\n",
      "Final Mass = 4.462e-01\n",
      "Final Angular Momentum = -9.162e-02\n",
      "Final Dimensionless Spin = -4.603e-01\n"
     ]
    }
   ],
   "source": [
    "h1 = hor_150914[(1,3)]\n",
    "print(h1)"
   ]
  },
  {
   "cell_type": "code",
   "execution_count": 48,
   "id": "6f866383",
   "metadata": {},
   "outputs": [
    {
     "name": "stdout",
     "output_type": "stream",
     "text": [
      "[1, 2]\n",
      "[0, 1, 2]\n"
     ]
    }
   ],
   "source": [
    "print(hor_150914.available_apparent_horizons)\n",
    "print(hor_150914.available_qlm_horizons)"
   ]
  },
  {
   "cell_type": "code",
   "execution_count": 56,
   "id": "cd7bdbc0",
   "metadata": {},
   "outputs": [
    {
     "name": "stdout",
     "output_type": "stream",
     "text": [
      "Formation time: 0.0000\n",
      "VTK information available\n",
      "Final Mass = 4.462e-01\n",
      "Final Angular Momentum = -9.162e-02\n",
      "Final Dimensionless Spin = -4.603e-01\n",
      "Formation time: 0.0000\n",
      "Final Mass = 0.000e+00\n",
      "Final Angular Momentum = 0.000e+00\n",
      "Final Dimensionless Spin = nan\n"
     ]
    }
   ],
   "source": [
    "h1 = hor_150914[(1,1)]\n",
    "h2 = hor_150914[(2,2)]\n",
    "print(h1)\n",
    "print(h2)"
   ]
  },
  {
   "cell_type": "code",
   "execution_count": null,
   "id": "3f276bae",
   "metadata": {},
   "outputs": [],
   "source": []
  }
 ],
 "metadata": {
  "kernelspec": {
   "display_name": "Python 3 (ipykernel)",
   "language": "python",
   "name": "python3"
  },
  "language_info": {
   "codemirror_mode": {
    "name": "ipython",
    "version": 3
   },
   "file_extension": ".py",
   "mimetype": "text/x-python",
   "name": "python",
   "nbconvert_exporter": "python",
   "pygments_lexer": "ipython3",
   "version": "3.10.12"
  }
 },
 "nbformat": 4,
 "nbformat_minor": 5
}
