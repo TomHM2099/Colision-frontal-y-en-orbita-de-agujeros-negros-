{
 "cells": [
  {
   "cell_type": "code",
   "execution_count": 34,
   "id": "23f4a25d",
   "metadata": {},
   "outputs": [
    {
     "name": "stdout",
     "output_type": "stream",
     "text": [
      "Masa tota M=: 1.0\n",
      "relación de masas q= 0.8055555555555556\n"
     ]
    }
   ],
   "source": [
    "from math import *\n",
    "#import sys \n",
    "#1 masa solar de distancia (en metros ) es:\n",
    "solar_mass_distance = 1476.66 \n",
    "\n",
    "#1 masa solar de tiempo (en segundo) es:\n",
    "solar_mass_time = 4.925e-6\n",
    "\n",
    "D = 10.0                    # Separation\n",
    "q = 36.0/29.0               # Mass ratio: q = mp/mm >= 1\n",
    "M = 1.0                     # Total mass\n",
    "chip =  0.31                # Dimensionsless z component of spin of + BH (x0 > 0, more massive)\n",
    "chim = -0.46                # Dimensionsless z component of spin of - BH (x0 < 0, less massive)\n",
    "Pr = -0.00084541526517121;  # Radial linear momentum\n",
    "Pphi = 0.09530152296974252; # Azimuthal linear momentum\n",
    "\n",
    "\n",
    "#La distancia luminica D de la fuente al receptor es de 140 Mpc (1Mpc = 1e6 pc)\n",
    "luminical_distance = 4.32e+21 / 1.476\n",
    "\n",
    "\n",
    "#Al reescalar a la masas total del sistema binario M = 36.0+29.0 = 65  \n",
    "\n",
    "\n",
    "\n",
    "print (\"Masa tota M=:\",M )\n",
    "print (\"relación de masas q=\",1/q)\n"
   ]
  },
  {
   "cell_type": "code",
   "execution_count": 3,
   "id": "c923119a",
   "metadata": {},
   "outputs": [
    {
     "name": "stdout",
     "output_type": "stream",
     "text": [
      "la masa mayor es mp= 0.5538461538461539\n",
      "la masa mayor es mm= 0.4461538461538462\n"
     ]
    }
   ],
   "source": [
    "mp = M * q/(1+q)           # Heavier, larger BH, AH1, SS 0\n",
    "mm = M * 1/(1+q)           # Lighter, smaller BH, AH2, SS 1\n",
    "print (\"la masa mayor es mp=\",mp)\n",
    "print (\"la masa mayor es mm=\",mm)"
   ]
  },
  {
   "cell_type": "code",
   "execution_count": 4,
   "id": "e118bbc6",
   "metadata": {},
   "outputs": [
    {
     "name": "stdout",
     "output_type": "stream",
     "text": [
      "la distancia de la masa mayor es xp= 4.461538461538462\n",
      "la distancia de la masa mayor es xm= -5.538461538461538\n",
      "mitad de la distancia D =  5.0\n"
     ]
    }
   ],
   "source": [
    "xp     = D * mm\n",
    "xm     = -D * mp\n",
    "half_D = D/2.0\n",
    "print(\"la distancia de la masa mayor es xp=\",xp)\n",
    "print(\"la distancia de la masa mayor es xm=\",xm)\n",
    "print (\"mitad de la distancia D = \",half_D)"
   ]
  },
  {
   "cell_type": "code",
   "execution_count": null,
   "id": "57766bb9",
   "metadata": {},
   "outputs": [],
   "source": []
  },
  {
   "cell_type": "code",
   "execution_count": 5,
   "id": "2cce4f26",
   "metadata": {},
   "outputs": [
    {
     "name": "stdout",
     "output_type": "stream",
     "text": [
      "desplazamiento central  offset= -0.5384615384615383\n"
     ]
    }
   ],
   "source": [
    "center_offset = xp -half_D\n",
    "print (\"desplazamiento central  offset=\",center_offset)"
   ]
  },
  {
   "cell_type": "code",
   "execution_count": 6,
   "id": "bd5acbd8",
   "metadata": {},
   "outputs": [
    {
     "name": "stdout",
     "output_type": "stream",
     "text": [
      "momento en la dirección x, para la masa mayor Px= -0.00084541526517121\n",
      "momento en la dirección y, para la masa mayor Py= 0.09530152296974252\n",
      "momento en la dirección z, para la masa mayor Pz= 0\n",
      "\n",
      "momento en la dirección x, para la masa menor Px= 0.00084541526517121\n",
      "momento en la dirección y, para la masa menor Py= -0.09530152296974252\n",
      "momento en la dirección z, para la masa menor Pz= 0\n"
     ]
    }
   ],
   "source": [
    "Spx = 0.;\n",
    "Spy = 0.;\n",
    "Spz = chip * mp**2;\n",
    "\n",
    "Smx = 0.;\n",
    "Smy = 0.;\n",
    "Smz = chim * mm**2;\n",
    "\n",
    "Ppx = Pr\n",
    "Ppy = Pphi\n",
    "Ppz = 0\n",
    "\n",
    "Pmx = -Ppx\n",
    "Pmy = -Ppy\n",
    "Pmz = -Ppz\n",
    "\n",
    "\n",
    "print(\"momento en la dirección x, para la masa mayor Px=\", Ppx)\n",
    "print(\"momento en la dirección y, para la masa mayor Py=\", Ppy)\n",
    "print(\"momento en la dirección z, para la masa mayor Pz=\",Ppz)\n",
    "print()\n",
    "print(\"momento en la dirección x, para la masa menor Px=\", Pmx)\n",
    "print(\"momento en la dirección y, para la masa menor Py=\", Pmy)\n",
    "print(\"momento en la dirección z, para la masa menor Pz=\",Pmz)"
   ]
  },
  {
   "cell_type": "code",
   "execution_count": 4,
   "id": "9eb23747",
   "metadata": {},
   "outputs": [
    {
     "name": "stdout",
     "output_type": "stream",
     "text": [
      "numero de puntos n= 28\n"
     ]
    }
   ],
   "source": [
    "#Variable que especefica al correr la simulación \n",
    "n = 28\n",
    "\n",
    "i = int(n/4)\n",
    "\n",
    "print (\"numero de puntos n=\",n)"
   ]
  },
  {
   "cell_type": "code",
   "execution_count": 8,
   "id": "d12d6399",
   "metadata": {},
   "outputs": [],
   "source": [
    "n_angular = 2*i*2"
   ]
  },
  {
   "cell_type": "code",
   "execution_count": 9,
   "id": "a00c90b7",
   "metadata": {},
   "outputs": [
    {
     "name": "stdout",
     "output_type": "stream",
     "text": [
      "radio aparente del horizonte aparente mayor =  0.5538461538461539\n",
      "radio aparente del horizonte aparente menor =  0.4461538461538462\n"
     ]
    }
   ],
   "source": [
    "# Radios eventuales estimados del horizonte aparente \n",
    "#horizonte aparente de la masa mayor \n",
    "ahrp = mp*1.0\n",
    "\n",
    "#horizonte aparante de la masas menor \n",
    "ahrm = mm*1.0\n",
    "print (\"radio aparente del horizonte aparente mayor = \",ahrp)\n",
    "print (\"radio aparente del horizonte aparente menor = \",ahrm)\n",
    "\n"
   ]
  },
  {
   "cell_type": "code",
   "execution_count": 10,
   "id": "36ca225e",
   "metadata": {},
   "outputs": [
    {
     "name": "stdout",
     "output_type": "stream",
     "text": [
      "radio de la caja alrededor del radio mayor  0.6646153846153846\n",
      "radio de la caja alrededor del radio menor  0.5353846153846153\n"
     ]
    }
   ],
   "source": [
    "#Tamaño de la coordenada de la \"caja\" alrededor de cada BH\n",
    "#Radio masa mayor \n",
    "rp = ahrp*1.2\n",
    "\n",
    "#Radio masa menor\n",
    "rm = ahrm*1.2\n",
    "\n",
    "print (\"radio de la caja alrededor del radio mayor \",rp)\n",
    "print (\"radio de la caja alrededor del radio menor \",rm)"
   ]
  },
  {
   "cell_type": "code",
   "execution_count": 11,
   "id": "f4673d68",
   "metadata": {},
   "outputs": [
    {
     "name": "stdout",
     "output_type": "stream",
     "text": [
      "espaciamiento de malla  1.92\n",
      "valor maximo de rls  9\n"
     ]
    }
   ],
   "source": [
    "#espaciamiento radial minimo aceptable \n",
    "hr_min = 2*0.96*M\n",
    "maxrls = 9\n",
    "\n",
    "print (\"espaciamiento de malla \",hr_min)\n",
    "print (\"valor maximo de rls \",maxrls)"
   ]
  },
  {
   "cell_type": "code",
   "execution_count": 12,
   "id": "e1413337",
   "metadata": {},
   "outputs": [
    {
     "name": "stdout",
     "output_type": "stream",
     "text": [
      "0.022307692307692306\n"
     ]
    }
   ],
   "source": [
    "n_min = 24\n",
    "hfm_min = rm /n_min\n",
    "print(hfm_min)"
   ]
  },
  {
   "cell_type": "code",
   "execution_count": 13,
   "id": "c36b628d",
   "metadata": {},
   "outputs": [],
   "source": [
    "from math import *\n",
    "\n",
    "rlsm = 1 + int(log(hr_min/hfm_min,2)) # Number of refinements to attain hr_min\n",
    "h0_min = hfm_min * 2**(rlsm-1) # RL0 Cartesian spacing"
   ]
  },
  {
   "cell_type": "code",
   "execution_count": 14,
   "id": "e0ead0c0",
   "metadata": {},
   "outputs": [],
   "source": [
    "levelsm = \"[0,\" + \",\".join([\"%f\" %(rm*2**(rlsm-l-1)) for l in range(1,rlsm)])+\"]\"\n"
   ]
  },
  {
   "cell_type": "code",
   "execution_count": 15,
   "id": "43c2c43e",
   "metadata": {},
   "outputs": [],
   "source": [
    "hr = h0_min * float(n_min)/float(n)"
   ]
  },
  {
   "cell_type": "code",
   "execution_count": 16,
   "id": "e48e0f61",
   "metadata": {},
   "outputs": [],
   "source": [
    "h0 = h0_min * float(n_min)/float(n)\n"
   ]
  },
  {
   "cell_type": "code",
   "execution_count": 17,
   "id": "9511039f",
   "metadata": {},
   "outputs": [],
   "source": [
    "\n",
    "sphere_inner_radius = 45\n",
    "expected_merger = 1000.0\n",
    "\n",
    "\n",
    "time_after_merger = 200.0\n",
    "waveform_length = expected_merger + time_after_merger\n",
    "outermost_detector = 500.0\n",
    "final_time = waveform_length + outermost_detector\n",
    "sphere_outer_radius = int((outermost_detector + final_time)/(i*hr))*i*hr\n",
    "sphere_outer_radius = int(sphere_outer_radius / hr) * hr + hr # round up to a multiple of hr\n",
    "sphere_inner_radius = int(ceil(sphere_inner_radius/(i*h0))) * h0 * i"
   ]
  },
  {
   "cell_type": "code",
   "execution_count": 18,
   "id": "5c94f480",
   "metadata": {},
   "outputs": [
    {
     "data": {
      "text/plain": [
       "7"
      ]
     },
     "execution_count": 18,
     "metadata": {},
     "output_type": "execute_result"
    }
   ],
   "source": [
    "rlsm"
   ]
  },
  {
   "cell_type": "code",
   "execution_count": 19,
   "id": "a4ce30ab",
   "metadata": {},
   "outputs": [
    {
     "name": "stdout",
     "output_type": "stream",
     "text": [
      "Raju Kumar is the TCE of ice\n"
     ]
    }
   ],
   "source": [
    "from string import Template \n",
    "\n",
    "template = Template('$name is the $job of $company') \n",
    "\n",
    "string = template.safe_substitute(name='Raju Kumar', \n",
    "\t\t\t\t\tjob='TCE', company = \"ice\") \n",
    "print(string) \n"
   ]
  },
  {
   "cell_type": "code",
   "execution_count": 20,
   "id": "f65df8e2",
   "metadata": {},
   "outputs": [],
   "source": [
    "if (Spx != 0. or Spy != 0. or Smx != 0. or Smy != 0.):\n",
    "    sys.stderr.write(\"This parameter file employs z-symmetry via the 'Coordinates::symmetry=\\\"+z bitant\\\"' setting. Therefore all spins must be in the z-direction only.\\n\");\n",
    "    sys.exit(1)"
   ]
  },
  {
   "cell_type": "code",
   "execution_count": 35,
   "id": "d4651c2c",
   "metadata": {},
   "outputs": [],
   "source": [
    "local_var = locals()\n",
    "\n"
   ]
  },
  {
   "cell_type": "code",
   "execution_count": 22,
   "id": "d26230f0",
   "metadata": {},
   "outputs": [],
   "source": [
    "col_width = 0\n",
    "for key,val in sorted(local_var.items()):\n",
    "    if isinstance(val, (int, float, complex, str)):\n",
    "        col_width = max(len(str(key)), col_width)"
   ]
  },
  {
   "cell_type": "code",
   "execution_count": 25,
   "id": "cadc098e",
   "metadata": {},
   "outputs": [],
   "source": [
    "var_settings = []\n",
    "for key,val in sorted(local_var.items()):\n",
    "    if isinstance(val, (int, float, complex, str)):\n",
    "        var_settings = var_settings + [\"# {0}{1} = {2}\".format(key,\" \"*(col_width-len(key)),val)]\n",
    "\n",
    "var_settings_str = \"\\n\".join(var_settings)"
   ]
  },
  {
   "cell_type": "code",
   "execution_count": 32,
   "id": "7bf9d3bc",
   "metadata": {},
   "outputs": [
    {
     "ename": "SyntaxError",
     "evalue": "invalid syntax (817510514.py, line 1)",
     "output_type": "error",
     "traceback": [
      "\u001b[0;36m  Cell \u001b[0;32mIn [32], line 1\u001b[0;36m\u001b[0m\n\u001b[0;31m    $col_width\u001b[0m\n\u001b[0m    ^\u001b[0m\n\u001b[0;31mSyntaxError\u001b[0m\u001b[0;31m:\u001b[0m invalid syntax\n"
     ]
    }
   ],
   "source": [
    "$col_width"
   ]
  },
  {
   "cell_type": "code",
   "execution_count": 33,
   "id": "39e3ac78",
   "metadata": {},
   "outputs": [
    {
     "data": {
      "text/plain": [
       "float"
      ]
     },
     "execution_count": 33,
     "metadata": {},
     "output_type": "execute_result"
    }
   ],
   "source": [
    "type(Spx)"
   ]
  },
  {
   "cell_type": "code",
   "execution_count": 31,
   "id": "c7a0192f",
   "metadata": {},
   "outputs": [
    {
     "data": {
      "text/plain": [
       "'# D                   = 10.0\\n# M                   = 1.0\\n# Pmx                 = 0.00084541526517121\\n# Pmy                 = -0.09530152296974252\\n# Pmz                 = 0\\n# Pphi                = 0.09530152296974252\\n# Ppx                 = -0.00084541526517121\\n# Ppy                 = 0.09530152296974252\\n# Ppz                 = 0\\n# Pr                  = -0.00084541526517121\\n# Smx                 = 0.0\\n# Smy                 = 0.0\\n# Smz                 = -0.09156449704142013\\n# Spx                 = 0.0\\n# Spy                 = 0.0\\n# Spz                 = 0.09509112426035504\\n# _                   = 19\\n# _18                 = 7\\n# _23                 = 19\\n# __                  = 7\\n# ___                 = \\n# __doc__             = Automatically created module for IPython interactive environment\\n# __name__            = __main__\\n# _i                  = var_settings = []\\nfor key,val in sorted(local_vars.items()):\\n    if isinstance(val, (int, float, complex, str)):\\n        var_settings = var_settings + [\"# {0}{1} = {2}\".format(key,\" \"*(col_width-len(key)),val)]\\n\\nvar_settings_str = \"\\\\n\".join(var_settings)\\n# _i1                 = local_var = locals()\\n# _i10                = #Tamaño de la coordenada de la \"caja\" alrededor de cada BH\\n#Radio masa mayor \\nrp = ahrp*1.2\\n\\n#Radio masa menor\\nrm = ahrm*1.2\\n\\nprint (\"radio de la caja alrededor del radio mayor \",rp)\\nprint (\"radio de la caja alrededor del radio menor \",rm)\\n# _i11                = #espaciamiento radial minimo aceptable \\nhr_min = 2*0.96*M\\nmaxrls = 9\\n\\nprint (\"espaciamiento de malla \",hr_min)\\nprint (\"valor maximo de rls \",maxrls)\\n# _i12                = n_min = 24\\nhfm_min = rm /n_min\\nprint(hfm_min)\\n# _i13                = from math import *\\n\\nrlsm = 1 + int(log(hr_min/hfm_min,2)) # Number of refinements to attain hr_min\\nh0_min = hfm_min * 2**(rlsm-1) # RL0 Cartesian spacing\\n# _i14                = levelsm = \"[0,\" + \",\".join([\"%f\" %(rm*2**(rlsm-l-1)) for l in range(1,rlsm)])+\"]\"\\n# _i15                = hr = h0_min * float(n_min)/float(n)\\n# _i16                = h0 = h0_min * float(n_min)/float(n)\\n# _i17                = \\nsphere_inner_radius = 45\\nexpected_merger = 1000.0\\n\\n\\ntime_after_merger = 200.0\\nwaveform_length = expected_merger + time_after_merger\\noutermost_detector = 500.0\\nfinal_time = waveform_length + outermost_detector\\nsphere_outer_radius = int((outermost_detector + final_time)/(i*hr))*i*hr\\nsphere_outer_radius = int(sphere_outer_radius / hr) * hr + hr # round up to a multiple of hr\\nsphere_inner_radius = int(ceil(sphere_inner_radius/(i*h0))) * h0 * i\\n# _i18                = rlsm\\n# _i19                = from string import Template \\n\\ntemplate = Template(\\'$name is the $job of $company\\') \\n\\nstring = template.safe_substitute(name=\\'Raju Kumar\\', \\n\\t\\t\\t\\t\\tjob=\\'TCE\\', company = \"ice\") \\nprint(string) \\n# _i2                 = from math import *\\nimport sys \\n#1 masa solar de distancia (en metros ) es:\\nsolar_mass_distance = 1476.66 \\n\\n#1 masa solar de tiempo (en segundo) es:\\nsolar_mass_time = 4.925e-6\\n\\nD = 10.0                    # Separation\\nq = 36.0/29.0               # Mass ratio: q = mp/mm >= 1\\nM = 1.0                     # Total mass\\nchip =  0.31                # Dimensionsless z component of spin of + BH (x0 > 0, more massive)\\nchim = -0.46                # Dimensionsless z component of spin of - BH (x0 < 0, less massive)\\nPr = -0.00084541526517121;  # Radial linear momentum\\nPphi = 0.09530152296974252; # Azimuthal linear momentum\\n\\n\\n#La distancia luminica D de la fuente al receptor es de 140 Mpc (1Mpc = 1e6 pc)\\nluminical_distance = 4.32e+21 / 1.476\\n\\n\\n#Al reescalar a la masas total del sistema binario M = 36.0+29.0 = 65  \\n\\n\\n\\nprint (\"Masa tota M=:\",M )\\nprint (\"relación de masas q=\",1/q)\\n# _i20                = if (Spx != 0. or Spy != 0. or Smx != 0. or Smy != 0.):\\n    sys.stderr.write(\"This parameter file employs z-symmetry via the \\'Coordinates::symmetry=\\\\\"+z bitant\\\\\"\\' setting. Therefore all spins must be in the z-direction only.\\\\n\");\\n    sys.exit(1)\\n# _i21                = local_var = locals()\\n# _i22                = col_width = 0\\nfor key,val in sorted(local_var.items()):\\n    if isinstance(val, (int, float, complex, str)):\\n        col_width = max(len(str(key)), col_width)\\n# _i23                = col_width\\n# _i24                = var_settings = []\\nfor key,val in sorted(local_vars.items()):\\n    if isinstance(val, (int, float, complex, str)):\\n        var_settings = var_settings + [\"# {0}{1} = {2}\".format(key,\" \"*(col_width-len(key)),val)]\\n\\nvar_settings_str = \"\\\\n\".join(var_settings)\\n# _i25                = var_settings = []\\nfor key,val in sorted(local_var.items()):\\n    if isinstance(val, (int, float, complex, str)):\\n        var_settings = var_settings + [\"# {0}{1} = {2}\".format(key,\" \"*(col_width-len(key)),val)]\\n\\nvar_settings_str = \"\\\\n\".join(var_settings)\\n# _i3                 = mp = M * q/(1+q)           # Heavier, larger BH, AH1, SS 0\\nmm = M * 1/(1+q)           # Lighter, smaller BH, AH2, SS 1\\nprint (\"la masa mayor es mp=\",mp)\\nprint (\"la masa mayor es mm=\",mm)\\n# _i4                 = xp     = D * mm\\nxm     = -D * mp\\nhalf_D = D/2.0\\nprint(\"la distancia de la masa mayor es xp=\",xp)\\nprint(\"la distancia de la masa mayor es xm=\",xm)\\nprint (\"mitad de la distancia D = \",half_D)\\n# _i5                 = center_offset = xp -half_D\\nprint (\"desplazamiento central  offset=\",center_offset)\\n# _i6                 = Spx = 0.;\\nSpy = 0.;\\nSpz = chip * mp**2;\\n\\nSmx = 0.;\\nSmy = 0.;\\nSmz = chim * mm**2;\\n\\nPpx = Pr\\nPpy = Pphi\\nPpz = 0\\n\\nPmx = -Ppx\\nPmy = -Ppy\\nPmz = -Ppz\\n\\n\\nprint(\"momento en la dirección x, para la masa mayor Px=\", Ppx)\\nprint(\"momento en la dirección y, para la masa mayor Py=\", Ppy)\\nprint(\"momento en la dirección z, para la masa mayor Pz=\",Ppz)\\nprint()\\nprint(\"momento en la dirección x, para la masa menor Px=\", Pmx)\\nprint(\"momento en la dirección y, para la masa menor Py=\", Pmy)\\nprint(\"momento en la dirección z, para la masa menor Pz=\",Pmz)\\n# _i7                 = #Variable que especefica al correr la simulación \\nn = 28\\n\\ni = int(n/4)\\n# _i8                 = n_angular = 2*i*2\\n# _i9                 = # Radios eventuales estimados del horizonte aparente \\n#horizonte aparente de la masa mayor \\nahrp = mp*1.0\\n\\n#horizonte aparante de la masas menor \\nahrm = mm*1.0\\nprint (\"radio aparente del horizonte aparente mayor = \",ahrp)\\nprint (\"radio aparente del horizonte aparente menor = \",ahrm)\\n# _ii                 = col_width\\n# _iii                = col_width = 0\\nfor key,val in sorted(local_var.items()):\\n    if isinstance(val, (int, float, complex, str)):\\n        col_width = max(len(str(key)), col_width)\\n# ahrm                = 0.4461538461538462\\n# ahrp                = 0.5538461538461539\\n# center_offset       = -0.5384615384615383\\n# chim                = -0.46\\n# chip                = 0.31\\n# col_width           = 19\\n# e                   = 2.718281828459045\\n# expected_merger     = 1000.0\\n# final_time          = 1700.0\\n# h0                  = 1.2237362637362637\\n# h0_min              = 1.4276923076923076\\n# half_D              = 5.0\\n# hfm_min             = 0.022307692307692306\\n# hr                  = 1.2237362637362637\\n# hr_min              = 1.92\\n# i                   = 7\\n# inf                 = inf\\n# key                 = xp\\n# levelsm             = [0,17.132308,8.566154,4.283077,2.141538,1.070769,0.535385]\\n# luminical_distance  = 2.926829268292683e+21\\n# maxrls              = 9\\n# mm                  = 0.4461538461538462\\n# mp                  = 0.5538461538461539\\n# n                   = 28\\n# n_angular           = 28\\n# n_min               = 24\\n# nan                 = nan\\n# outermost_detector  = 500.0\\n# pi                  = 3.141592653589793\\n# q                   = 1.2413793103448276\\n# rlsm                = 7\\n# rm                  = 0.5353846153846153\\n# rp                  = 0.6646153846153846\\n# solar_mass_distance = 1476.66\\n# solar_mass_time     = 4.925e-06\\n# sphere_inner_radius = 51.39692307692307\\n# sphere_outer_radius = 2194.1591208791206\\n# string              = Raju Kumar is the TCE of ice\\n# tau                 = 6.283185307179586\\n# time_after_merger   = 200.0\\n# val                 = 4.461538461538462\\n# waveform_length     = 1200.0\\n# xm                  = -5.538461538461538\\n# xp                  = 4.461538461538462'"
      ]
     },
     "execution_count": 31,
     "metadata": {},
     "output_type": "execute_result"
    }
   ],
   "source": []
  },
  {
   "cell_type": "code",
   "execution_count": null,
   "id": "c56031ff",
   "metadata": {},
   "outputs": [],
   "source": []
  }
 ],
 "metadata": {
  "kernelspec": {
   "display_name": "Python 3 (ipykernel)",
   "language": "python",
   "name": "python3"
  },
  "language_info": {
   "codemirror_mode": {
    "name": "ipython",
    "version": 3
   },
   "file_extension": ".py",
   "mimetype": "text/x-python",
   "name": "python",
   "nbconvert_exporter": "python",
   "pygments_lexer": "ipython3",
   "version": "3.10.12"
  }
 },
 "nbformat": 4,
 "nbformat_minor": 5
}
